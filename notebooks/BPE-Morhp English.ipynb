{
 "cells": [
  {
   "cell_type": "code",
   "execution_count": 3,
   "metadata": {},
   "outputs": [],
   "source": [
    "from bpe_surgery import *\n",
    "from visualize import *\n",
    "from utils import *\n",
    "import glob"
   ]
  },
  {
   "cell_type": "code",
   "execution_count": 4,
   "metadata": {},
   "outputs": [],
   "source": [
    "conll_files = glob.glob('camelTB/data/annotated/**/**.conllx')\n",
    "out = {}\n",
    "for file in conll_files:\n",
    "    out = parse_file(file, out)"
   ]
  },
  {
   "cell_type": "code",
   "execution_count": 5,
   "metadata": {},
   "outputs": [
    {
     "data": {
      "text/plain": [
       "14322"
      ]
     },
     "execution_count": 5,
     "metadata": {},
     "output_type": "execute_result"
    }
   ],
   "source": [
    "len(out)"
   ]
  },
  {
   "cell_type": "code",
   "execution_count": 13,
   "metadata": {},
   "outputs": [
    {
     "data": {
      "text/plain": [
       "['ل', 'يكون']"
      ]
     },
     "execution_count": 13,
     "metadata": {},
     "output_type": "execute_result"
    }
   ],
   "source": [
    "out[\"ليكون\"]"
   ]
  },
  {
   "cell_type": "code",
   "execution_count": null,
   "metadata": {},
   "outputs": [],
   "source": []
  },
  {
   "cell_type": "code",
   "execution_count": 14,
   "metadata": {},
   "outputs": [
    {
     "data": {
      "text/plain": [
       "77"
      ]
     },
     "execution_count": 14,
     "metadata": {},
     "output_type": "execute_result"
    }
   ],
   "source": [
    "vocab_size = 80\n",
    "\n",
    "text = \"talked enjoying plays all the way and that was good lovely likely instantable\"\n",
    "\n",
    "sentence = 'played enjoyly loves likeable'\n",
    "\n",
    "open('test.txt', 'w').write(text)"
   ]
  },
  {
   "cell_type": "code",
   "execution_count": 15,
   "metadata": {},
   "outputs": [
    {
     "name": "stdout",
     "output_type": "stream",
     "text": [
      "[nltk_data] Downloading package punkt to /home/zaid/nltk_data...\n",
      "[nltk_data]   Package punkt is already up-to-date!\n"
     ]
    },
    {
     "data": {
      "application/vnd.jupyter.widget-view+json": {
       "model_id": "d3fc70a1d79c4f5c9688590bbbe830b7",
       "version_major": 2,
       "version_minor": 0
      },
      "text/plain": [
       "  0%|          | 0/59 [00:00<?, ?it/s]"
      ]
     },
     "metadata": {},
     "output_type": "display_data"
    },
    {
     "name": "stdout",
     "output_type": "stream",
     "text": [
      "no more bigrams to merge\n"
     ]
    },
    {
     "data": {
      "text/plain": [
       "[['▁pl', 'ay', 'ed'],\n",
       " ['▁en', 'joy', 'l', 'y'],\n",
       " ['▁lov', 'e', 's'],\n",
       " ['▁lik', 'e', 'a', 'ble']]"
      ]
     },
     "execution_count": 15,
     "metadata": {},
     "output_type": "execute_result"
    }
   ],
   "source": [
    "regular_tokenizer_en = bpe(vocab_size, verbose = False, morph = False, lower_case=True)\n",
    "regular_tokenizer_en.train(file = 'test.txt')\n",
    "regular_tokenizer_en.tokenize(sentence)"
   ]
  },
  {
   "cell_type": "code",
   "execution_count": 16,
   "metadata": {},
   "outputs": [
    {
     "name": "stdout",
     "output_type": "stream",
     "text": [
      "[nltk_data] Downloading package punkt to /home/zaid/nltk_data...\n",
      "[nltk_data]   Package punkt is already up-to-date!\n",
      "extracting affixes automatically ...\n"
     ]
    },
    {
     "data": {
      "application/vnd.jupyter.widget-view+json": {
       "model_id": "839ee46cdf7e4e9493bf22bcbecf7fe8",
       "version_major": 2,
       "version_minor": 0
      },
      "text/plain": [
       "  0%|          | 0/47 [00:00<?, ?it/s]"
      ]
     },
     "metadata": {},
     "output_type": "display_data"
    },
    {
     "name": "stdout",
     "output_type": "stream",
     "text": [
      "no more bigrams to merge\n"
     ]
    },
    {
     "data": {
      "text/plain": [
       "[['▁play', 'ed'], ['▁enjoy', 'ly'], ['▁love', 's'], ['▁like', 'able']]"
      ]
     },
     "execution_count": 16,
     "metadata": {},
     "output_type": "execute_result"
    }
   ],
   "source": [
    "ma_tokenizer_en = bpe(vocab_size, morph = True, morph_with_sep= True, verbose = False, lower_case=True)\n",
    "ma_tokenizer_en.train(file = 'test.txt')\n",
    "ma_tokenizer_en.tokenize(sentence)"
   ]
  },
  {
   "cell_type": "code",
   "execution_count": 5,
   "metadata": {},
   "outputs": [
    {
     "name": "stdout",
     "output_type": "stream",
     "text": [
      "[nltk_data] Downloading package punkt to /home/zaid/nltk_data...\n",
      "[nltk_data]   Package punkt is already up-to-date!\n",
      "Use provided affixes\n"
     ]
    },
    {
     "data": {
      "application/vnd.jupyter.widget-view+json": {
       "model_id": "ee97f713c13a4209b00230cdc5151e47",
       "version_major": 2,
       "version_minor": 0
      },
      "text/plain": [
       "  0%|          | 0/47 [00:00<?, ?it/s]"
      ]
     },
     "metadata": {},
     "output_type": "display_data"
    },
    {
     "name": "stdout",
     "output_type": "stream",
     "text": [
      "no more bigrams to merge\n"
     ]
    },
    {
     "data": {
      "text/plain": [
       "[['▁play', 'ed'], ['▁enjoy', 'ly'], ['▁love', 's'], ['▁like', 'able']]"
      ]
     },
     "execution_count": 5,
     "metadata": {},
     "output_type": "execute_result"
    }
   ],
   "source": [
    "ma_tokenizer_en = bpe(vocab_size, morph = True, morph_with_sep= True, verbose = False, lower_case=True, suffixes=['ed', 'ly', 'able', 's', 'ing'])\n",
    "ma_tokenizer_en.train(file = 'test.txt')\n",
    "ma_tokenizer_en.tokenize(sentence)"
   ]
  },
  {
   "cell_type": "code",
   "execution_count": 7,
   "metadata": {},
   "outputs": [
    {
     "data": {
      "image/png": "[encoded data removed]",
      "text/plain": [
       "<Figure size 432x288 with 1 Axes>"
      ]
     },
     "metadata": {},
     "output_type": "display_data"
    }
   ],
   "source": [
    "plot_token_length(ma_tokenizer_en.vocab)"
   ]
  },
  {
   "cell_type": "code",
   "execution_count": 7,
   "metadata": {},
   "outputs": [
    {
     "data": {
      "text/plain": [
       "2"
      ]
     },
     "execution_count": 7,
     "metadata": {},
     "output_type": "execute_result"
    }
   ],
   "source": [
    "len(set([2, 3, 4]) & set([3, 4, 6]))"
   ]
  },
  {
   "cell_type": "code",
   "execution_count": null,
   "metadata": {},
   "outputs": [],
   "source": []
  }
 ],
 "metadata": {
  "kernelspec": {
   "display_name": "Python 3",
   "language": "python",
   "name": "python3"
  },
  "language_info": {
   "codemirror_mode": {
    "name": "ipython",
    "version": 3
   },
   "file_extension": ".py",
   "mimetype": "text/x-python",
   "name": "python",
   "nbconvert_exporter": "python",
   "pygments_lexer": "ipython3",
   "version": "3.6.5"
  }
 },
 "nbformat": 4,
 "nbformat_minor": 2
}
