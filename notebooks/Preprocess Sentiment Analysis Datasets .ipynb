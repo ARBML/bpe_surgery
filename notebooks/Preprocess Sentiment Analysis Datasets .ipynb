{
 "cells": [
  {
   "cell_type": "code",
   "execution_count": 1,
   "metadata": {
    "id": "Y7fiAySYvRPh"
   },
   "outputs": [],
   "source": [
    "from datasets import process_dataset"
   ]
  },
  {
   "cell_type": "code",
   "execution_count": 2,
   "metadata": {},
   "outputs": [],
   "source": [
    "process_dataset(dataset = \"ajgt\")"
   ]
  },
  {
   "cell_type": "code",
   "execution_count": 3,
   "metadata": {
    "colab": {
     "base_uri": "https://localhost:8080/"
    },
    "id": "06eNdnYiY7Bm",
    "outputId": "86e8e45d-c008-4ff5-9145-2c57607e14f6"
   },
   "outputs": [
    {
     "name": "stdout",
     "output_type": "stream",
     "text": [
      "6453\n",
      "11689\n"
     ]
    },
    {
     "name": "stderr",
     "output_type": "stream",
     "text": [
      "/home/zaid/anaconda3/lib/python3.6/site-packages/statsmodels/tools/_testing.py:19: FutureWarning: pandas.util.testing is deprecated. Use the functions in the public API at pandas.testing instead.\n",
      "  import pandas.util.testing as tm\n"
     ]
    }
   ],
   "source": [
    "from bayanat import Bayanat\n",
    "data = Bayanat('datasets/ajgt/train_data.txt')\n",
    "print(data.get_size_vocab())\n",
    "print(data.get_number_of_words())"
   ]
  },
  {
   "cell_type": "code",
   "execution_count": 4,
   "metadata": {
    "colab": {
     "base_uri": "https://localhost:8080/"
    },
    "id": "VF8SmK4zVkcz",
    "outputId": "af3d7827-e329-4ea8-89ec-7b7455e25350"
   },
   "outputs": [
    {
     "name": "stdout",
     "output_type": "stream",
     "text": [
      "9\n",
      "46\n"
     ]
    }
   ],
   "source": [
    "import numpy as np\n",
    "max_word_tokens = int(np.mean([len(stmt.split(' ')) for stmt in data.data.split('\\n')]))\n",
    "max_char_tokens = int(np.mean([len(stmt) for stmt in data.data.split('\\n')]))\n",
    "\n",
    "print(max_word_tokens)\n",
    "print(max_char_tokens)"
   ]
  },
  {
   "cell_type": "code",
   "execution_count": 5,
   "metadata": {
    "colab": {
     "base_uri": "https://localhost:8080/"
    },
    "id": "7xvQttzyY-2k",
    "outputId": "a3d2f2e8-8fce-4746-c5ef-1f01b10ffad1"
   },
   "outputs": [
    {
     "name": "stdout",
     "output_type": "stream",
     "text": [
      "1101\n",
      "1486\n"
     ]
    }
   ],
   "source": [
    "from bayanat import Bayanat\n",
    "data = Bayanat('datasets/ajgt/test_data.txt')\n",
    "print(data.get_size_vocab())\n",
    "print(data.get_number_of_words())"
   ]
  },
  {
   "cell_type": "code",
   "execution_count": 2,
   "metadata": {},
   "outputs": [],
   "source": [
    "process_dataset(dataset = \"labr\")"
   ]
  },
  {
   "cell_type": "code",
   "execution_count": null,
   "metadata": {},
   "outputs": [],
   "source": []
  }
 ],
 "metadata": {
  "accelerator": "GPU",
  "colab": {
   "collapsed_sections": [],
   "name": "DISS:AJGT:sentiment classification from command line.ipynb",
   "provenance": []
  },
  "kernelspec": {
   "display_name": "Python 3",
   "language": "python",
   "name": "python3"
  },
  "language_info": {
   "codemirror_mode": {
    "name": "ipython",
    "version": 3
   },
   "file_extension": ".py",
   "mimetype": "text/x-python",
   "name": "python",
   "nbconvert_exporter": "python",
   "pygments_lexer": "ipython3",
   "version": "3.6.5"
  }
 },
 "nbformat": 4,
 "nbformat_minor": 1
}
