{
 "cells": [
  {
   "cell_type": "code",
   "execution_count": 47,
   "metadata": {},
   "outputs": [
    {
     "name": "stdout",
     "output_type": "stream",
     "text": [
      "Obtaining file:///home/zaid/bpe_surgery\n",
      "  Preparing metadata (setup.py) ... \u001b[?25ldone\n",
      "\u001b[?25hRequirement already satisfied: farasapy in /home/zaid/anaconda3/lib/python3.7/site-packages (from bpe-surgery==0.0.1) (0.0.14)\n",
      "Requirement already satisfied: tqdm in /home/zaid/anaconda3/lib/python3.7/site-packages (from bpe-surgery==0.0.1) (4.64.1)\n",
      "Requirement already satisfied: nltk in /home/zaid/anaconda3/lib/python3.7/site-packages (from bpe-surgery==0.0.1) (3.7)\n",
      "Requirement already satisfied: Morfessor in /home/zaid/anaconda3/lib/python3.7/site-packages (from bpe-surgery==0.0.1) (2.0.6)\n",
      "Requirement already satisfied: conllu in /home/zaid/anaconda3/lib/python3.7/site-packages (from bpe-surgery==0.0.1) (4.5.2)\n",
      "Requirement already satisfied: requests in /home/zaid/anaconda3/lib/python3.7/site-packages (from farasapy->bpe-surgery==0.0.1) (2.28.1)\n",
      "Requirement already satisfied: click in /home/zaid/anaconda3/lib/python3.7/site-packages (from nltk->bpe-surgery==0.0.1) (8.1.3)\n",
      "Requirement already satisfied: regex>=2021.8.3 in /home/zaid/anaconda3/lib/python3.7/site-packages (from nltk->bpe-surgery==0.0.1) (2022.9.13)\n",
      "Requirement already satisfied: joblib in /home/zaid/anaconda3/lib/python3.7/site-packages (from nltk->bpe-surgery==0.0.1) (1.2.0)\n",
      "Requirement already satisfied: importlib-metadata in /home/zaid/anaconda3/lib/python3.7/site-packages (from click->nltk->bpe-surgery==0.0.1) (5.0.0)\n",
      "Requirement already satisfied: idna<4,>=2.5 in /home/zaid/anaconda3/lib/python3.7/site-packages (from requests->farasapy->bpe-surgery==0.0.1) (3.4)\n",
      "Requirement already satisfied: charset-normalizer<3,>=2 in /home/zaid/anaconda3/lib/python3.7/site-packages (from requests->farasapy->bpe-surgery==0.0.1) (2.1.1)\n",
      "Requirement already satisfied: certifi>=2017.4.17 in /home/zaid/anaconda3/lib/python3.7/site-packages (from requests->farasapy->bpe-surgery==0.0.1) (2022.9.24)\n",
      "Requirement already satisfied: urllib3<1.27,>=1.21.1 in /home/zaid/anaconda3/lib/python3.7/site-packages (from requests->farasapy->bpe-surgery==0.0.1) (1.26.12)\n",
      "Requirement already satisfied: typing-extensions>=3.6.4 in /home/zaid/anaconda3/lib/python3.7/site-packages (from importlib-metadata->click->nltk->bpe-surgery==0.0.1) (4.3.0)\n",
      "Requirement already satisfied: zipp>=0.5 in /home/zaid/anaconda3/lib/python3.7/site-packages (from importlib-metadata->click->nltk->bpe-surgery==0.0.1) (3.8.1)\n",
      "Installing collected packages: bpe-surgery\n",
      "  Attempting uninstall: bpe-surgery\n",
      "    Found existing installation: bpe-surgery 0.0.1\n",
      "    Uninstalling bpe-surgery-0.0.1:\n",
      "      Successfully uninstalled bpe-surgery-0.0.1\n",
      "  Running setup.py develop for bpe-surgery\n",
      "Successfully installed bpe-surgery-0.0.1\n"
     ]
    }
   ],
   "source": [
    "!pip install -e ."
   ]
  },
  {
   "cell_type": "code",
   "execution_count": 48,
   "metadata": {},
   "outputs": [],
   "source": [
    "from bpe_surgery import bpe"
   ]
  },
  {
   "cell_type": "code",
   "execution_count": 49,
   "metadata": {},
   "outputs": [],
   "source": [
    "tokenizer = bpe(vocab_size=23,)"
   ]
  },
  {
   "cell_type": "code",
   "execution_count": 50,
   "metadata": {},
   "outputs": [
    {
     "name": "stderr",
     "output_type": "stream",
     "text": [
      "100%|██████████| 2/2 [00:00<00:00, 4857.33it/s]"
     ]
    },
    {
     "name": "stdout",
     "output_type": "stream",
     "text": [
      "vocab size reached\n"
     ]
    },
    {
     "name": "stderr",
     "output_type": "stream",
     "text": [
      "\n"
     ]
    }
   ],
   "source": [
    "tokenizer.train(file_path='test_ar_sm.txt')"
   ]
  },
  {
   "cell_type": "code",
   "execution_count": 56,
   "metadata": {},
   "outputs": [
    {
     "name": "stderr",
     "output_type": "stream",
     "text": [
      "100%|██████████| 4/4 [00:00<00:00, 12748.64it/s]\n"
     ]
    },
    {
     "data": {
      "text/plain": [
       "[['ال', 'س', 'ل', 'ا', 'م'],\n",
       " ['ع', 'ل', 'ي', 'ك', 'م'],\n",
       " ['<unk>', 'ي', '<unk>'],\n",
       " ['جم', 'ي', 'ل']]"
      ]
     },
     "execution_count": 56,
     "metadata": {},
     "output_type": "execute_result"
    }
   ],
   "source": [
    "tokenizer.tokenize(\"السلام عليكم شيء جميل\")"
   ]
  }
 ],
 "metadata": {
  "kernelspec": {
   "display_name": "Python 3.8.10 64-bit",
   "language": "python",
   "name": "python3"
  },
  "language_info": {
   "codemirror_mode": {
    "name": "ipython",
    "version": 3
   },
   "file_extension": ".py",
   "mimetype": "text/x-python",
   "name": "python",
   "nbconvert_exporter": "python",
   "pygments_lexer": "ipython3",
   "version": "3.7.0"
  },
  "vscode": {
   "interpreter": {
    "hash": "916dbcbb3f70747c44a77c7bcd40155683ae19c65e1c03b4aa3499c5328201f1"
   }
  }
 },
 "nbformat": 4,
 "nbformat_minor": 2
}
