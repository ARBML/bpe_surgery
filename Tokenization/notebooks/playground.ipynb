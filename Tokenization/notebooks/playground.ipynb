{
 "cells": [
  {
   "cell_type": "code",
   "execution_count": 1,
   "metadata": {},
   "outputs": [
    {
     "name": "stdout",
     "output_type": "stream",
     "text": [
      "Processing /home/zaid/DISS/Tokenization\n",
      "  Preparing metadata (setup.py) ... \u001b[?25ldone\n",
      "\u001b[?25hRequirement already satisfied: farasapy in /home/zaid/anaconda3/lib/python3.6/site-packages (from bpe-surgery==0.0.1) (0.0.14)\n",
      "Requirement already satisfied: tqdm in /home/zaid/anaconda3/lib/python3.6/site-packages (from bpe-surgery==0.0.1) (4.64.0)\n",
      "Requirement already satisfied: nltk in /home/zaid/anaconda3/lib/python3.6/site-packages (from bpe-surgery==0.0.1) (3.3)\n",
      "Requirement already satisfied: Morfessor in /home/zaid/anaconda3/lib/python3.6/site-packages (from bpe-surgery==0.0.1) (2.0.6)\n",
      "Requirement already satisfied: requests in /home/zaid/anaconda3/lib/python3.6/site-packages (from farasapy->bpe-surgery==0.0.1) (2.27.1)\n",
      "Requirement already satisfied: six in /home/zaid/anaconda3/lib/python3.6/site-packages (from nltk->bpe-surgery==0.0.1) (1.15.0)\n",
      "Requirement already satisfied: importlib-resources in /home/zaid/anaconda3/lib/python3.6/site-packages (from tqdm->bpe-surgery==0.0.1) (5.4.0)\n",
      "Requirement already satisfied: zipp>=3.1.0 in /home/zaid/anaconda3/lib/python3.6/site-packages (from importlib-resources->tqdm->bpe-surgery==0.0.1) (3.6.0)\n",
      "Requirement already satisfied: urllib3<1.27,>=1.21.1 in /home/zaid/anaconda3/lib/python3.6/site-packages (from requests->farasapy->bpe-surgery==0.0.1) (1.26.11)\n",
      "Requirement already satisfied: certifi>=2017.4.17 in /home/zaid/anaconda3/lib/python3.6/site-packages (from requests->farasapy->bpe-surgery==0.0.1) (2018.4.16)\n",
      "Requirement already satisfied: charset-normalizer~=2.0.0 in /home/zaid/anaconda3/lib/python3.6/site-packages (from requests->farasapy->bpe-surgery==0.0.1) (2.0.12)\n",
      "Requirement already satisfied: idna<4,>=2.5 in /home/zaid/anaconda3/lib/python3.6/site-packages (from requests->farasapy->bpe-surgery==0.0.1) (2.6)\n",
      "Building wheels for collected packages: bpe-surgery\n",
      "  Building wheel for bpe-surgery (setup.py) ... \u001b[?25ldone\n",
      "\u001b[?25h  Created wheel for bpe-surgery: filename=bpe_surgery-0.0.1-py3-none-any.whl size=11373 sha256=c1460fda4964874b312384f5bbfb4015a3c0979b10dc57b1151d1d7240a18be1\n",
      "  Stored in directory: /tmp/pip-ephem-wheel-cache-0chbf7yh/wheels/83/77/a5/5a9fbe4fcfbdd634c6d793c707aa46f411d57a7b7f276f17f0\n",
      "Successfully built bpe-surgery\n",
      "Installing collected packages: bpe-surgery\n",
      "  Attempting uninstall: bpe-surgery\n",
      "    Found existing installation: bpe-surgery 0.0.1\n",
      "    Uninstalling bpe-surgery-0.0.1:\n",
      "      Successfully uninstalled bpe-surgery-0.0.1\n",
      "Successfully installed bpe-surgery-0.0.1\n"
     ]
    }
   ],
   "source": [
    "!pip install ../."
   ]
  },
  {
   "cell_type": "code",
   "execution_count": 2,
   "metadata": {},
   "outputs": [],
   "source": [
    "from bpe_surgery import bpe"
   ]
  },
  {
   "cell_type": "code",
   "execution_count": 3,
   "metadata": {},
   "outputs": [],
   "source": [
    "tokenizer = bpe(vocab_size=300)"
   ]
  },
  {
   "cell_type": "code",
   "execution_count": 4,
   "metadata": {},
   "outputs": [
    {
     "data": {
      "application/vnd.jupyter.widget-view+json": {
       "model_id": "7f02d573515741ee8ed9ad9df2d4b5f3",
       "version_major": 2,
       "version_minor": 0
      },
      "text/plain": [
       "  0%|          | 0/281 [00:00<?, ?it/s]"
      ]
     },
     "metadata": {},
     "output_type": "display_data"
    },
    {
     "name": "stdout",
     "output_type": "stream",
     "text": [
      "no more bigrams to merge\n"
     ]
    }
   ],
   "source": [
    "tokenizer.train(file='../test_ar_sm.txt')"
   ]
  },
  {
   "cell_type": "code",
   "execution_count": 10,
   "metadata": {},
   "outputs": [
    {
     "data": {
      "application/vnd.jupyter.widget-view+json": {
       "model_id": "bd180a87f37b433d847ece2920a3a57e",
       "version_major": 2,
       "version_minor": 0
      },
      "text/plain": [
       "  0%|          | 0/2 [00:00<?, ?it/s]"
      ]
     },
     "metadata": {},
     "output_type": "display_data"
    },
    {
     "name": "stdout",
     "output_type": "stream",
     "text": [
      "[[41, 39, 0, 0, 0, 0, 0, 0, 0, 0], [2, 14, 15, 5, 14, 0, 0, 0, 0, 0]]\n"
     ]
    }
   ],
   "source": [
    "ids = tokenizer.encode_sentences(['السلام عليكم', 'اهلا'], out_length=10)\n",
    "print(ids)"
   ]
  },
  {
   "cell_type": "code",
   "execution_count": 11,
   "metadata": {},
   "outputs": [
    {
     "data": {
      "text/plain": [
       "['السلام عليكم', 'اهلا']"
      ]
     },
     "execution_count": 11,
     "metadata": {},
     "output_type": "execute_result"
    }
   ],
   "source": [
    "tokenizer.decode_sentences(ids)"
   ]
  },
  {
   "cell_type": "code",
   "execution_count": null,
   "metadata": {},
   "outputs": [],
   "source": []
  }
 ],
 "metadata": {
  "kernelspec": {
   "display_name": "Python 3",
   "language": "python",
   "name": "python3"
  },
  "language_info": {
   "codemirror_mode": {
    "name": "ipython",
    "version": 3
   },
   "file_extension": ".py",
   "mimetype": "text/x-python",
   "name": "python",
   "nbconvert_exporter": "python",
   "pygments_lexer": "ipython3",
   "version": "3.6.5"
  }
 },
 "nbformat": 4,
 "nbformat_minor": 2
}
