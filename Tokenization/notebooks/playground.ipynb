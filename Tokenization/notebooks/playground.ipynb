{
 "cells": [
  {
   "cell_type": "code",
   "execution_count": 1,
   "metadata": {},
   "outputs": [
    {
     "name": "stdout",
     "output_type": "stream",
     "text": [
      "Processing /home/zaid/DISS/Tokenization\n",
      "  Preparing metadata (setup.py) ... \u001b[?25ldone\n",
      "\u001b[?25hRequirement already satisfied: farasapy in /home/zaid/anaconda3/lib/python3.6/site-packages (from bpe-surgery==0.0.1) (0.0.14)\n",
      "Requirement already satisfied: tqdm in /home/zaid/anaconda3/lib/python3.6/site-packages (from bpe-surgery==0.0.1) (4.64.0)\n",
      "Requirement already satisfied: nltk in /home/zaid/anaconda3/lib/python3.6/site-packages (from bpe-surgery==0.0.1) (3.3)\n",
      "Requirement already satisfied: Morfessor in /home/zaid/anaconda3/lib/python3.6/site-packages (from bpe-surgery==0.0.1) (2.0.6)\n",
      "Requirement already satisfied: requests in /home/zaid/anaconda3/lib/python3.6/site-packages (from farasapy->bpe-surgery==0.0.1) (2.27.1)\n",
      "Requirement already satisfied: six in /home/zaid/anaconda3/lib/python3.6/site-packages (from nltk->bpe-surgery==0.0.1) (1.15.0)\n",
      "Requirement already satisfied: importlib-resources in /home/zaid/anaconda3/lib/python3.6/site-packages (from tqdm->bpe-surgery==0.0.1) (5.4.0)\n",
      "Requirement already satisfied: zipp>=3.1.0 in /home/zaid/anaconda3/lib/python3.6/site-packages (from importlib-resources->tqdm->bpe-surgery==0.0.1) (3.6.0)\n",
      "Requirement already satisfied: idna<4,>=2.5 in /home/zaid/anaconda3/lib/python3.6/site-packages (from requests->farasapy->bpe-surgery==0.0.1) (2.6)\n",
      "Requirement already satisfied: urllib3<1.27,>=1.21.1 in /home/zaid/anaconda3/lib/python3.6/site-packages (from requests->farasapy->bpe-surgery==0.0.1) (1.26.11)\n",
      "Requirement already satisfied: charset-normalizer~=2.0.0 in /home/zaid/anaconda3/lib/python3.6/site-packages (from requests->farasapy->bpe-surgery==0.0.1) (2.0.12)\n",
      "Requirement already satisfied: certifi>=2017.4.17 in /home/zaid/anaconda3/lib/python3.6/site-packages (from requests->farasapy->bpe-surgery==0.0.1) (2018.4.16)\n",
      "Building wheels for collected packages: bpe-surgery\n",
      "  Building wheel for bpe-surgery (setup.py) ... \u001b[?25ldone\n",
      "\u001b[?25h  Created wheel for bpe-surgery: filename=bpe_surgery-0.0.1-py3-none-any.whl size=11486 sha256=c32d8b8c9330fdf7f99020be98c151e28d31d2ad22947a0d73dc089d25e2dd4a\n",
      "  Stored in directory: /tmp/pip-ephem-wheel-cache-74wrijhv/wheels/83/77/a5/5a9fbe4fcfbdd634c6d793c707aa46f411d57a7b7f276f17f0\n",
      "Successfully built bpe-surgery\n",
      "Installing collected packages: bpe-surgery\n",
      "  Attempting uninstall: bpe-surgery\n",
      "    Found existing installation: bpe-surgery 0.0.1\n",
      "    Uninstalling bpe-surgery-0.0.1:\n",
      "      Successfully uninstalled bpe-surgery-0.0.1\n",
      "Successfully installed bpe-surgery-0.0.1\n"
     ]
    }
   ],
   "source": [
    "!pip install ../."
   ]
  },
  {
   "cell_type": "code",
   "execution_count": 2,
   "metadata": {},
   "outputs": [],
   "source": [
    "from bpe_surgery import bpe"
   ]
  },
  {
   "cell_type": "code",
   "execution_count": 3,
   "metadata": {},
   "outputs": [],
   "source": [
    "tokenizer = bpe(vocab_size=300, seg = True)"
   ]
  },
  {
   "cell_type": "code",
   "execution_count": 4,
   "metadata": {},
   "outputs": [
    {
     "name": "stdout",
     "output_type": "stream",
     "text": [
      "apply pre segmentation ...\n"
     ]
    },
    {
     "data": {
      "application/vnd.jupyter.widget-view+json": {
       "model_id": "efa38dc9b8064a9b83a32a00a713bd1b",
       "version_major": 2,
       "version_minor": 0
      },
      "text/plain": [
       "  0%|          | 0/280 [00:00<?, ?it/s]"
      ]
     },
     "metadata": {},
     "output_type": "display_data"
    },
    {
     "name": "stdout",
     "output_type": "stream",
     "text": [
      "no more bigrams to merge\n"
     ]
    }
   ],
   "source": [
    "tokenizer.train(file='../test_ar_sm.txt')"
   ]
  },
  {
   "cell_type": "code",
   "execution_count": 11,
   "metadata": {},
   "outputs": [
    {
     "data": {
      "text/plain": [
       "'ال+سلام علي+كم #sep# اهل+ا'"
      ]
     },
     "execution_count": 11,
     "metadata": {},
     "output_type": "execute_result"
    }
   ],
   "source": [
    "joined_sentences = ' #sep# '.join(['السلام عليكم', 'اهلا'])\n",
    "seg_joined_setnences = tokenizer.segmenter.segment(joined_sentences)\n",
    "seg_joined_setnences"
   ]
  },
  {
   "cell_type": "code",
   "execution_count": 8,
   "metadata": {},
   "outputs": [
    {
     "data": {
      "text/plain": [
       "'< s > ال+سلام'"
      ]
     },
     "execution_count": 8,
     "metadata": {},
     "output_type": "execute_result"
    }
   ],
   "source": [
    "tokenizer.segmenter.segment(' <s> السلام')"
   ]
  },
  {
   "cell_type": "code",
   "execution_count": 5,
   "metadata": {},
   "outputs": [
    {
     "ename": "AssertionError",
     "evalue": "",
     "output_type": "error",
     "traceback": [
      "\u001b[0;31m---------------------------------------------------------------------------\u001b[0m",
      "\u001b[0;31mAssertionError\u001b[0m                            Traceback (most recent call last)",
      "\u001b[0;32m<ipython-input-5-12af90a8c634>\u001b[0m in \u001b[0;36m<module>\u001b[0;34m()\u001b[0m\n\u001b[0;32m----> 1\u001b[0;31m \u001b[0mids\u001b[0m \u001b[0;34m=\u001b[0m \u001b[0mtokenizer\u001b[0m\u001b[0;34m.\u001b[0m\u001b[0mencode_sentences\u001b[0m\u001b[0;34m(\u001b[0m\u001b[0;34m[\u001b[0m\u001b[0;34m'السلام عليكم'\u001b[0m\u001b[0;34m,\u001b[0m \u001b[0;34m'اهلا'\u001b[0m\u001b[0;34m]\u001b[0m\u001b[0;34m,\u001b[0m \u001b[0mout_length\u001b[0m\u001b[0;34m=\u001b[0m\u001b[0;36m10\u001b[0m\u001b[0;34m)\u001b[0m\u001b[0;34m\u001b[0m\u001b[0m\n\u001b[0m\u001b[1;32m      2\u001b[0m \u001b[0mprint\u001b[0m\u001b[0;34m(\u001b[0m\u001b[0mids\u001b[0m\u001b[0;34m)\u001b[0m\u001b[0;34m\u001b[0m\u001b[0m\n",
      "\u001b[0;32m~/anaconda3/lib/python3.6/site-packages/bpe_surgery/bpe_surgery.py\u001b[0m in \u001b[0;36mencode_sentences\u001b[0;34m(self, data, add_boundry, out_length)\u001b[0m\n\u001b[1;32m    447\u001b[0m       \u001b[0mjoined_sentences\u001b[0m \u001b[0;34m=\u001b[0m \u001b[0;34m' <sep> '\u001b[0m\u001b[0;34m.\u001b[0m\u001b[0mjoin\u001b[0m\u001b[0;34m(\u001b[0m\u001b[0msentences\u001b[0m\u001b[0;34m)\u001b[0m\u001b[0;34m\u001b[0m\u001b[0m\n\u001b[1;32m    448\u001b[0m       \u001b[0mseg_joined_setnences\u001b[0m \u001b[0;34m=\u001b[0m \u001b[0mself\u001b[0m\u001b[0;34m.\u001b[0m\u001b[0msegmenter\u001b[0m\u001b[0;34m.\u001b[0m\u001b[0msegment\u001b[0m\u001b[0;34m(\u001b[0m\u001b[0mjoined_sentences\u001b[0m\u001b[0;34m)\u001b[0m\u001b[0;34m\u001b[0m\u001b[0m\n\u001b[0;32m--> 449\u001b[0;31m       \u001b[0;32massert\u001b[0m \u001b[0mlen\u001b[0m\u001b[0;34m(\u001b[0m\u001b[0msentences\u001b[0m\u001b[0;34m)\u001b[0m \u001b[0;34m==\u001b[0m \u001b[0mlen\u001b[0m\u001b[0;34m(\u001b[0m\u001b[0mseg_joined_setnences\u001b[0m\u001b[0;34m.\u001b[0m\u001b[0msplit\u001b[0m\u001b[0;34m(\u001b[0m\u001b[0;34m'<sep>'\u001b[0m\u001b[0;34m)\u001b[0m\u001b[0;34m)\u001b[0m\u001b[0;34m\u001b[0m\u001b[0m\n\u001b[0m\u001b[1;32m    450\u001b[0m       \u001b[0msentences\u001b[0m \u001b[0;34m=\u001b[0m \u001b[0;34m[\u001b[0m\u001b[0msentence\u001b[0m\u001b[0;34m.\u001b[0m\u001b[0mstrip\u001b[0m\u001b[0;34m(\u001b[0m\u001b[0;34m)\u001b[0m \u001b[0;32mfor\u001b[0m \u001b[0msentence\u001b[0m \u001b[0;32min\u001b[0m \u001b[0mseg_joined_setnences\u001b[0m\u001b[0;34m.\u001b[0m\u001b[0msplit\u001b[0m\u001b[0;34m(\u001b[0m\u001b[0;34m'<sep>'\u001b[0m\u001b[0;34m)\u001b[0m\u001b[0;34m]\u001b[0m\u001b[0;34m\u001b[0m\u001b[0m\n\u001b[1;32m    451\u001b[0m \u001b[0;34m\u001b[0m\u001b[0m\n",
      "\u001b[0;31mAssertionError\u001b[0m: "
     ]
    }
   ],
   "source": [
    "ids = tokenizer.encode_sentences(['السلام عليكم', 'اهلا'], out_length=10)\n",
    "print(ids)"
   ]
  },
  {
   "cell_type": "code",
   "execution_count": 11,
   "metadata": {},
   "outputs": [
    {
     "data": {
      "text/plain": [
       "['السلام عليكم', 'اهلا']"
      ]
     },
     "execution_count": 11,
     "metadata": {},
     "output_type": "execute_result"
    }
   ],
   "source": [
    "tokenizer.decode_sentences(ids)"
   ]
  },
  {
   "cell_type": "code",
   "execution_count": null,
   "metadata": {},
   "outputs": [],
   "source": []
  }
 ],
 "metadata": {
  "kernelspec": {
   "display_name": "Python 3",
   "language": "python",
   "name": "python3"
  },
  "language_info": {
   "codemirror_mode": {
    "name": "ipython",
    "version": 3
   },
   "file_extension": ".py",
   "mimetype": "text/x-python",
   "name": "python",
   "nbconvert_exporter": "python",
   "pygments_lexer": "ipython3",
   "version": "3.6.5"
  }
 },
 "nbformat": 4,
 "nbformat_minor": 2
}
