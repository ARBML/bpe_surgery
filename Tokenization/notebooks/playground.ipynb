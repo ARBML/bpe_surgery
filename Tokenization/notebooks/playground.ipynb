{
 "cells": [
  {
   "cell_type": "code",
   "execution_count": 21,
   "metadata": {},
   "outputs": [],
   "source": [
    "%%capture\n",
    "!pip3 install -U ../"
   ]
  },
  {
   "cell_type": "code",
   "execution_count": 1,
   "metadata": {},
   "outputs": [
    {
     "name": "stderr",
     "output_type": "stream",
     "text": [
      "/usr/lib/python3/dist-packages/requests/__init__.py:89: RequestsDependencyWarning: urllib3 (1.26.12) or chardet (3.0.4) doesn't match a supported version!\n",
      "  warnings.warn(\"urllib3 ({}) or chardet ({}) doesn't match a supported \"\n"
     ]
    }
   ],
   "source": [
    "from bpe_surgery import bpe"
   ]
  },
  {
   "cell_type": "code",
   "execution_count": 2,
   "metadata": {},
   "outputs": [],
   "source": [
    "tokenizer = bpe(vocab_size=300,)"
   ]
  },
  {
   "cell_type": "code",
   "execution_count": 3,
   "metadata": {},
   "outputs": [
    {
     "name": "stderr",
     "output_type": "stream",
     "text": [
      "  9%|▊         | 24/280 [00:00<00:00, 28435.96it/s]"
     ]
    },
    {
     "name": "stdout",
     "output_type": "stream",
     "text": [
      "no more bigrams to merge\n"
     ]
    },
    {
     "name": "stderr",
     "output_type": "stream",
     "text": [
      "\n"
     ]
    }
   ],
   "source": [
    "tokenizer.train(file_path='../test_ar_sm.txt')"
   ]
  },
  {
   "cell_type": "code",
   "execution_count": 4,
   "metadata": {},
   "outputs": [
    {
     "data": {
      "text/plain": [
       "['<pad>',\n",
       " '<unk>',\n",
       " '▁',\n",
       " '<s>',\n",
       " '</s>',\n",
       " '<sep>',\n",
       " 'ا',\n",
       " 'ل',\n",
       " 'ت',\n",
       " 'ر',\n",
       " 'و',\n",
       " 'م',\n",
       " 'ع',\n",
       " 'ي',\n",
       " 'س',\n",
       " 'ة',\n",
       " 'ب',\n",
       " 'ه',\n",
       " 'ح',\n",
       " 'ك',\n",
       " 'ال',\n",
       " '▁و',\n",
       " '▁ال',\n",
       " 'ات',\n",
       " 'ام',\n",
       " 'بر',\n",
       " 'حم',\n",
       " 'سل',\n",
       " 'عل',\n",
       " 'كم',\n",
       " 'له',\n",
       " 'اته',\n",
       " 'برك',\n",
       " 'حمة',\n",
       " 'علي',\n",
       " '▁ور',\n",
       " 'سلام',\n",
       " '▁علي',\n",
       " '▁الله',\n",
       " '▁وبرك',\n",
       " '▁عليكم',\n",
       " '▁ورحمة',\n",
       " '▁السلام',\n",
       " '▁وبركاته']"
      ]
     },
     "execution_count": 4,
     "metadata": {},
     "output_type": "execute_result"
    }
   ],
   "source": [
    "tokenizer.vocab"
   ]
  },
  {
   "cell_type": "code",
   "execution_count": 8,
   "metadata": {},
   "outputs": [
    {
     "name": "stderr",
     "output_type": "stream",
     "text": [
      "100%|██████████| 1/1 [00:00<00:00, 3079.52it/s]"
     ]
    },
    {
     "name": "stdout",
     "output_type": "stream",
     "text": [
      "[[42, 40, 5, 2, 1, 11, 13, 7, 40, 0]]\n"
     ]
    },
    {
     "name": "stderr",
     "output_type": "stream",
     "text": [
      "\n"
     ]
    }
   ],
   "source": [
    "ids = tokenizer.encode_sentences(sentences1 = ['السلام عليكم'], sentences2= ['جميل عليكم'], out_length=10)\n",
    "print(ids)"
   ]
  },
  {
   "cell_type": "code",
   "execution_count": 9,
   "metadata": {},
   "outputs": [
    {
     "data": {
      "text/plain": [
       "['السلام عليكم ميل عليكم']"
      ]
     },
     "execution_count": 9,
     "metadata": {},
     "output_type": "execute_result"
    }
   ],
   "source": [
    "tokenizer.decode_sentences(ids)"
   ]
  }
 ],
 "metadata": {
  "kernelspec": {
   "display_name": "Python 3.8.10 64-bit",
   "language": "python",
   "name": "python3"
  },
  "language_info": {
   "codemirror_mode": {
    "name": "ipython",
    "version": 3
   },
   "file_extension": ".py",
   "mimetype": "text/x-python",
   "name": "python",
   "nbconvert_exporter": "python",
   "pygments_lexer": "ipython3",
   "version": "3.8.10"
  },
  "vscode": {
   "interpreter": {
    "hash": "916dbcbb3f70747c44a77c7bcd40155683ae19c65e1c03b4aa3499c5328201f1"
   }
  }
 },
 "nbformat": 4,
 "nbformat_minor": 2
}
