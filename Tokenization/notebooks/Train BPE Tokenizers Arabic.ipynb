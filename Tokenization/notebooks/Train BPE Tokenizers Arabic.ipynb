{
 "cells": [
  {
   "cell_type": "code",
   "execution_count": 9,
   "metadata": {},
   "outputs": [],
   "source": [
    "%%capture\n",
    "!pip3 install -U ../"
   ]
  },
  {
   "cell_type": "code",
   "execution_count": 1,
   "metadata": {},
   "outputs": [
    {
     "name": "stderr",
     "output_type": "stream",
     "text": [
      "/usr/lib/python3/dist-packages/requests/__init__.py:89: RequestsDependencyWarning: urllib3 (1.26.12) or chardet (3.0.4) doesn't match a supported version!\n",
      "  warnings.warn(\"urllib3 ({}) or chardet ({}) doesn't match a supported \"\n"
     ]
    }
   ],
   "source": [
    "%reload_ext autoreload\n",
    "%autoreload 2\n",
    "import time\n",
    "import pickle\n",
    "import os\n",
    "import seaborn as sns \n",
    "import pandas as pd \n",
    "import matplotlib.pyplot as plt\n",
    "from bpe_surgery import bpe\n",
    "from bpe_surgery.evaluate import Evaluate"
   ]
  },
  {
   "cell_type": "code",
   "execution_count": 2,
   "metadata": {},
   "outputs": [
    {
     "name": "stdout",
     "output_type": "stream",
     "text": [
      "train size 11457\n",
      "test size 2865\n"
     ]
    }
   ],
   "source": [
    "from bpe_surgery import utils\n",
    "import random \n",
    "random.seed(42)\n",
    "\n",
    "gold_tokens = utils.get_gold_segmentations(dataset=\"/home/zaid/camelTB\")\n",
    "full_corpus = list(gold_tokens)\n",
    "random.shuffle(full_corpus)\n",
    "\n",
    "train_split_size = int(0.8 * len(full_corpus))\n",
    "train_corpus = \" \".join(full_corpus[:train_split_size])\n",
    "test_corpus = \" \".join(full_corpus[train_split_size:])\n",
    "test_gold_tokens = {word:gold_tokens[word] for word in test_corpus.split(\" \")}\n",
    "print('train size', len(train_corpus.split(\" \")))\n",
    "print('test size',len(test_corpus.split(\" \")))"
   ]
  },
  {
   "cell_type": "code",
   "execution_count": 3,
   "metadata": {},
   "outputs": [
    {
     "data": {
      "text/plain": [
       "'الودائع والمحن يسرقوا فتمهل يوجه يغيروا أرحل حمل الدلال أحق التطفل بالتواجد المثل بالغرب فهما فيخرجو'"
      ]
     },
     "execution_count": 3,
     "metadata": {},
     "output_type": "execute_result"
    }
   ],
   "source": [
    "train_corpus[:100]"
   ]
  },
  {
   "cell_type": "code",
   "execution_count": 4,
   "metadata": {},
   "outputs": [
    {
     "data": {
      "text/plain": [
       "['ب', 'الغرب']"
      ]
     },
     "execution_count": 4,
     "metadata": {},
     "output_type": "execute_result"
    }
   ],
   "source": [
    "gold_tokens['بالغرب']"
   ]
  },
  {
   "cell_type": "code",
   "execution_count": 5,
   "metadata": {},
   "outputs": [],
   "source": [
    "def get_tokenizer(name, vocab_size):\n",
    "    if name == 'bpe':\n",
    "        return bpe(vocab_size)\n",
    "    elif name == 'mat-bpe':\n",
    "        return bpe(vocab_size, morph = True)\n",
    "    elif name == 'seg-bpe':\n",
    "        return bpe(vocab_size, seg=True)\n",
    "    else:\n",
    "        raise('Unrecognized tokenizer name!')"
   ]
  },
  {
   "cell_type": "code",
   "execution_count": 6,
   "metadata": {},
   "outputs": [],
   "source": [
    "!rm -rf new_ckpts"
   ]
  },
  {
   "cell_type": "code",
   "execution_count": 7,
   "metadata": {},
   "outputs": [],
   "source": [
    "evaluate_names = [\"Segmentation\", \"Compression factor\", \"Training speed\", \"Inference speed\",\n",
    "                                   \"Number of tokens\", \"Token length\"]\n",
    "vocab_sizes = [250, 500, 1_000, 5_000, 1_0000]"
   ]
  },
  {
   "cell_type": "code",
   "execution_count": 8,
   "metadata": {},
   "outputs": [
    {
     "name": "stdout",
     "output_type": "stream",
     "text": [
      "******************************\n",
      "training BPE-250\n"
     ]
    },
    {
     "name": "stderr",
     "output_type": "stream",
     "text": [
      "100%|██████████| 142/142 [00:10<00:00, 13.52it/s]\n"
     ]
    },
    {
     "name": "stdout",
     "output_type": "stream",
     "text": [
      "vocab size reached\n",
      "evaluating ... \n"
     ]
    },
    {
     "name": "stderr",
     "output_type": "stream",
     "text": [
      "100%|██████████| 2865/2865 [00:00<00:00, 20850.02it/s]\n",
      "100%|██████████| 2865/2865 [00:00<00:00, 301260.55it/s]\n",
      "100%|██████████| 2865/2865 [00:00<00:00, 20011.99it/s]\n",
      "100%|██████████| 2865/2865 [00:00<00:00, 657044.18it/s]\n",
      "100%|██████████| 2865/2865 [00:00<00:00, 18237.54it/s]\n",
      "100%|██████████| 2865/2865 [00:00<00:00, 15378.38it/s]\n",
      "100%|██████████| 250/250 [00:00<00:00, 494844.74it/s]\n"
     ]
    },
    {
     "name": "stdout",
     "output_type": "stream",
     "text": [
      "perform system check...\n",
      "check java version...\n",
      "Your java version is 11.0 which is compatiple with Farasa \n",
      "check toolkit binaries...\n",
      "Dependencies seem to be satisfied..\n",
      "task [SEGMENT] is initialized in \u001b[34mSTANDALONE \u001b[37mmode...\n",
      "******************************\n",
      "training MaT-BPE-250\n",
      "extracting affixes automatically ...\n"
     ]
    },
    {
     "name": "stderr",
     "output_type": "stream",
     "text": [
      "100%|██████████| 122/122 [00:08<00:00, 14.41it/s]\n"
     ]
    },
    {
     "name": "stdout",
     "output_type": "stream",
     "text": [
      "vocab size reached\n",
      "evaluating ... \n"
     ]
    },
    {
     "name": "stderr",
     "output_type": "stream",
     "text": [
      "100%|██████████| 2865/2865 [00:00<00:00, 11606.80it/s]\n",
      "100%|██████████| 2865/2865 [00:00<00:00, 199552.97it/s]\n",
      "100%|██████████| 2865/2865 [00:00<00:00, 16105.45it/s]\n",
      "100%|██████████| 2865/2865 [00:00<00:00, 627240.89it/s]\n",
      "100%|██████████| 2865/2865 [00:00<00:00, 12543.70it/s]\n",
      "100%|██████████| 2865/2865 [00:00<00:00, 16443.88it/s]\n",
      "100%|██████████| 250/250 [00:00<00:00, 531732.25it/s]\n"
     ]
    },
    {
     "name": "stdout",
     "output_type": "stream",
     "text": [
      "perform system check...\n",
      "check java version...\n",
      "Your java version is 11.0 which is compatiple with Farasa \n",
      "check toolkit binaries...\n",
      "Dependencies seem to be satisfied..\n",
      "task [SEGMENT] is initialized in \u001b[34mSTANDALONE \u001b[37mmode...\n",
      "******************************\n",
      "training Seg-BPE-250\n",
      "apply pre segmentation ...\n"
     ]
    },
    {
     "name": "stderr",
     "output_type": "stream",
     "text": [
      "100%|██████████| 149/149 [00:06<00:00, 23.75it/s]\n"
     ]
    },
    {
     "name": "stdout",
     "output_type": "stream",
     "text": [
      "vocab size reached\n",
      "evaluating ... \n"
     ]
    },
    {
     "name": "stderr",
     "output_type": "stream",
     "text": [
      "100%|██████████| 2865/2865 [00:00<00:00, 17635.83it/s]\n",
      "100%|██████████| 2865/2865 [00:00<00:00, 272623.10it/s]\n",
      "100%|██████████| 2865/2865 [00:00<00:00, 18474.98it/s]\n",
      "100%|██████████| 2865/2865 [00:00<00:00, 815077.05it/s]\n",
      "100%|██████████| 2865/2865 [00:00<00:00, 18044.04it/s]\n",
      "100%|██████████| 2865/2865 [00:00<00:00, 19363.97it/s]\n",
      "100%|██████████| 250/250 [00:00<00:00, 1372481.68it/s]\n"
     ]
    },
    {
     "name": "stdout",
     "output_type": "stream",
     "text": [
      "******************************\n",
      "training BPE-500\n",
      "Continue pretraining from vocab_size :  250\n"
     ]
    },
    {
     "name": "stderr",
     "output_type": "stream",
     "text": [
      "100%|██████████| 250/250 [00:12<00:00, 19.90it/s]\n"
     ]
    },
    {
     "name": "stdout",
     "output_type": "stream",
     "text": [
      "vocab size reached\n",
      "evaluating ... \n"
     ]
    },
    {
     "name": "stderr",
     "output_type": "stream",
     "text": [
      "100%|██████████| 2865/2865 [00:00<00:00, 16640.19it/s]\n",
      "100%|██████████| 2865/2865 [00:00<00:00, 350698.41it/s]\n",
      "100%|██████████| 2865/2865 [00:00<00:00, 16884.19it/s]\n",
      "100%|██████████| 2865/2865 [00:00<00:00, 1225066.87it/s]\n",
      "100%|██████████| 2865/2865 [00:00<00:00, 17083.27it/s]\n",
      "100%|██████████| 2865/2865 [00:00<00:00, 16356.64it/s]\n",
      "100%|██████████| 500/500 [00:00<00:00, 1444319.56it/s]\n"
     ]
    },
    {
     "name": "stdout",
     "output_type": "stream",
     "text": [
      "perform system check...\n",
      "check java version...\n",
      "Your java version is 11.0 which is compatiple with Farasa \n",
      "check toolkit binaries...\n",
      "Dependencies seem to be satisfied..\n",
      "task [SEGMENT] is initialized in \u001b[34mSTANDALONE \u001b[37mmode...\n",
      "******************************\n",
      "training MaT-BPE-500\n",
      "Continue pretraining from vocab_size :  250\n"
     ]
    },
    {
     "name": "stderr",
     "output_type": "stream",
     "text": [
      "100%|██████████| 250/250 [00:11<00:00, 21.10it/s]\n"
     ]
    },
    {
     "name": "stdout",
     "output_type": "stream",
     "text": [
      "vocab size reached\n",
      "evaluating ... \n"
     ]
    },
    {
     "name": "stderr",
     "output_type": "stream",
     "text": [
      "100%|██████████| 2865/2865 [00:00<00:00, 16288.57it/s]\n",
      "100%|██████████| 2865/2865 [00:00<00:00, 332798.30it/s]\n",
      "100%|██████████| 2865/2865 [00:00<00:00, 15955.57it/s]\n",
      "100%|██████████| 2865/2865 [00:00<00:00, 1128220.91it/s]\n",
      "100%|██████████| 2865/2865 [00:00<00:00, 16324.91it/s]\n",
      "100%|██████████| 2865/2865 [00:00<00:00, 16125.92it/s]\n",
      "100%|██████████| 500/500 [00:00<00:00, 1410324.14it/s]\n"
     ]
    },
    {
     "name": "stdout",
     "output_type": "stream",
     "text": [
      "perform system check...\n",
      "check java version...\n",
      "Your java version is 11.0 which is compatiple with Farasa \n",
      "check toolkit binaries...\n",
      "Dependencies seem to be satisfied..\n",
      "task [SEGMENT] is initialized in \u001b[34mSTANDALONE \u001b[37mmode...\n",
      "******************************\n",
      "training Seg-BPE-500\n",
      "apply pre segmentation ...\n",
      "Continue pretraining from vocab_size :  250\n"
     ]
    },
    {
     "name": "stderr",
     "output_type": "stream",
     "text": [
      "100%|██████████| 250/250 [00:10<00:00, 24.34it/s]\n"
     ]
    },
    {
     "name": "stdout",
     "output_type": "stream",
     "text": [
      "vocab size reached\n",
      "evaluating ... \n"
     ]
    },
    {
     "name": "stderr",
     "output_type": "stream",
     "text": [
      "100%|██████████| 2865/2865 [00:00<00:00, 14052.48it/s]\n",
      "100%|██████████| 2865/2865 [00:00<00:00, 290131.85it/s]\n",
      "100%|██████████| 2865/2865 [00:00<00:00, 14197.45it/s]\n",
      "100%|██████████| 2865/2865 [00:00<00:00, 919690.87it/s]\n",
      "100%|██████████| 2865/2865 [00:00<00:00, 13684.13it/s]\n",
      "100%|██████████| 2865/2865 [00:00<00:00, 12313.12it/s]\n",
      "100%|██████████| 500/500 [00:00<00:00, 621746.81it/s]\n"
     ]
    },
    {
     "name": "stdout",
     "output_type": "stream",
     "text": [
      "******************************\n",
      "training BPE-1000\n",
      "Continue pretraining from vocab_size :  500\n"
     ]
    },
    {
     "name": "stderr",
     "output_type": "stream",
     "text": [
      "100%|██████████| 500/500 [00:24<00:00, 20.82it/s]\n"
     ]
    },
    {
     "name": "stdout",
     "output_type": "stream",
     "text": [
      "vocab size reached\n",
      "evaluating ... \n"
     ]
    },
    {
     "name": "stderr",
     "output_type": "stream",
     "text": [
      "100%|██████████| 2865/2865 [00:00<00:00, 9357.89it/s]\n",
      "100%|██████████| 2865/2865 [00:00<00:00, 324074.46it/s]\n",
      "100%|██████████| 2865/2865 [00:00<00:00, 9138.55it/s]\n",
      "100%|██████████| 2865/2865 [00:00<00:00, 801539.55it/s]\n",
      "100%|██████████| 2865/2865 [00:00<00:00, 9410.48it/s]\n",
      "100%|██████████| 2865/2865 [00:00<00:00, 9695.99it/s]\n",
      "100%|██████████| 1000/1000 [00:00<00:00, 1344328.21it/s]\n"
     ]
    },
    {
     "name": "stdout",
     "output_type": "stream",
     "text": [
      "perform system check...\n",
      "check java version...\n",
      "Your java version is 11.0 which is compatiple with Farasa \n",
      "check toolkit binaries...\n",
      "Dependencies seem to be satisfied..\n",
      "task [SEGMENT] is initialized in \u001b[34mSTANDALONE \u001b[37mmode...\n",
      "******************************\n",
      "training MaT-BPE-1000\n",
      "Continue pretraining from vocab_size :  500\n"
     ]
    },
    {
     "name": "stderr",
     "output_type": "stream",
     "text": [
      "100%|██████████| 500/500 [00:23<00:00, 20.93it/s]\n"
     ]
    },
    {
     "name": "stdout",
     "output_type": "stream",
     "text": [
      "vocab size reached\n",
      "evaluating ... \n"
     ]
    },
    {
     "name": "stderr",
     "output_type": "stream",
     "text": [
      "100%|██████████| 2865/2865 [00:00<00:00, 9334.56it/s]\n",
      "100%|██████████| 2865/2865 [00:00<00:00, 352871.35it/s]\n",
      "100%|██████████| 2865/2865 [00:00<00:00, 8348.81it/s]\n",
      "100%|██████████| 2865/2865 [00:00<00:00, 1170874.11it/s]\n",
      "100%|██████████| 2865/2865 [00:00<00:00, 9351.87it/s]\n",
      "100%|██████████| 2865/2865 [00:00<00:00, 9133.33it/s]\n",
      "100%|██████████| 1000/1000 [00:00<00:00, 1679737.28it/s]\n"
     ]
    },
    {
     "name": "stdout",
     "output_type": "stream",
     "text": [
      "perform system check...\n",
      "check java version...\n",
      "Your java version is 11.0 which is compatiple with Farasa \n",
      "check toolkit binaries...\n",
      "Dependencies seem to be satisfied..\n",
      "task [SEGMENT] is initialized in \u001b[34mSTANDALONE \u001b[37mmode...\n",
      "******************************\n",
      "training Seg-BPE-1000\n",
      "apply pre segmentation ...\n",
      "Continue pretraining from vocab_size :  500\n"
     ]
    },
    {
     "name": "stderr",
     "output_type": "stream",
     "text": [
      "100%|██████████| 500/500 [00:18<00:00, 27.10it/s]\n"
     ]
    },
    {
     "name": "stdout",
     "output_type": "stream",
     "text": [
      "vocab size reached\n",
      "evaluating ... \n"
     ]
    },
    {
     "name": "stderr",
     "output_type": "stream",
     "text": [
      "100%|██████████| 2865/2865 [00:00<00:00, 7937.65it/s]\n",
      "100%|██████████| 2865/2865 [00:00<00:00, 258256.63it/s]\n",
      "100%|██████████| 2865/2865 [00:00<00:00, 7204.27it/s]\n",
      "100%|██████████| 2865/2865 [00:00<00:00, 897973.47it/s]\n",
      "100%|██████████| 2865/2865 [00:00<00:00, 8416.12it/s]\n",
      "100%|██████████| 2865/2865 [00:00<00:00, 6476.98it/s]\n",
      "100%|██████████| 1000/1000 [00:00<00:00, 1394846.69it/s]\n"
     ]
    },
    {
     "name": "stdout",
     "output_type": "stream",
     "text": [
      "******************************\n",
      "training BPE-5000\n",
      "Continue pretraining from vocab_size :  1000\n"
     ]
    },
    {
     "name": "stderr",
     "output_type": "stream",
     "text": [
      "100%|██████████| 4000/4000 [03:27<00:00, 19.26it/s]\n"
     ]
    },
    {
     "name": "stdout",
     "output_type": "stream",
     "text": [
      "vocab size reached\n",
      "evaluating ... \n"
     ]
    },
    {
     "name": "stderr",
     "output_type": "stream",
     "text": [
      "100%|██████████| 2865/2865 [00:01<00:00, 1956.04it/s]\n",
      "100%|██████████| 2865/2865 [00:00<00:00, 378323.24it/s]\n",
      "100%|██████████| 2865/2865 [00:01<00:00, 1834.48it/s]\n",
      "100%|██████████| 2865/2865 [00:00<00:00, 1145536.79it/s]\n",
      "100%|██████████| 2865/2865 [00:01<00:00, 1953.33it/s]\n",
      "100%|██████████| 2865/2865 [00:01<00:00, 2213.29it/s]\n",
      "100%|██████████| 5000/5000 [00:00<00:00, 1598195.40it/s]\n"
     ]
    },
    {
     "name": "stdout",
     "output_type": "stream",
     "text": [
      "perform system check...\n",
      "check java version...\n",
      "Your java version is 11.0 which is compatiple with Farasa \n",
      "check toolkit binaries...\n",
      "Dependencies seem to be satisfied..\n",
      "task [SEGMENT] is initialized in \u001b[34mSTANDALONE \u001b[37mmode...\n",
      "******************************\n",
      "training MaT-BPE-5000\n",
      "Continue pretraining from vocab_size :  1000\n"
     ]
    },
    {
     "name": "stderr",
     "output_type": "stream",
     "text": [
      "100%|██████████| 4000/4000 [03:22<00:00, 19.76it/s]\n"
     ]
    },
    {
     "name": "stdout",
     "output_type": "stream",
     "text": [
      "vocab size reached\n",
      "evaluating ... \n"
     ]
    },
    {
     "name": "stderr",
     "output_type": "stream",
     "text": [
      "100%|██████████| 2865/2865 [00:01<00:00, 2138.15it/s]\n",
      "100%|██████████| 2865/2865 [00:00<00:00, 329368.52it/s]\n",
      "100%|██████████| 2865/2865 [00:01<00:00, 2123.67it/s]\n",
      "100%|██████████| 2865/2865 [00:00<00:00, 1179609.40it/s]\n",
      "100%|██████████| 2865/2865 [00:01<00:00, 2155.15it/s]\n",
      "100%|██████████| 2865/2865 [00:01<00:00, 2090.13it/s]\n",
      "100%|██████████| 5000/5000 [00:00<00:00, 1755232.67it/s]\n"
     ]
    },
    {
     "name": "stdout",
     "output_type": "stream",
     "text": [
      "perform system check...\n",
      "check java version...\n",
      "Your java version is 11.0 which is compatiple with Farasa \n",
      "check toolkit binaries...\n",
      "Dependencies seem to be satisfied..\n",
      "task [SEGMENT] is initialized in \u001b[34mSTANDALONE \u001b[37mmode...\n",
      "******************************\n",
      "training Seg-BPE-5000\n",
      "apply pre segmentation ...\n",
      "Continue pretraining from vocab_size :  1000\n"
     ]
    },
    {
     "name": "stderr",
     "output_type": "stream",
     "text": [
      "100%|██████████| 4000/4000 [02:20<00:00, 28.43it/s]\n"
     ]
    },
    {
     "name": "stdout",
     "output_type": "stream",
     "text": [
      "vocab size reached\n",
      "evaluating ... \n"
     ]
    },
    {
     "name": "stderr",
     "output_type": "stream",
     "text": [
      "100%|██████████| 2865/2865 [00:01<00:00, 1724.87it/s]\n",
      "100%|██████████| 2865/2865 [00:00<00:00, 282088.33it/s]\n",
      "100%|██████████| 2865/2865 [00:01<00:00, 1692.08it/s]\n",
      "100%|██████████| 2865/2865 [00:00<00:00, 859623.79it/s]\n",
      "100%|██████████| 2865/2865 [00:01<00:00, 1519.78it/s]\n",
      "100%|██████████| 2865/2865 [00:01<00:00, 1631.81it/s]\n",
      "100%|██████████| 5000/5000 [00:00<00:00, 1607259.35it/s]\n"
     ]
    },
    {
     "name": "stdout",
     "output_type": "stream",
     "text": [
      "******************************\n",
      "training BPE-10000\n",
      "Continue pretraining from vocab_size :  5000\n"
     ]
    },
    {
     "name": "stderr",
     "output_type": "stream",
     "text": [
      "100%|██████████| 5000/5000 [04:30<00:00, 18.47it/s]\n"
     ]
    },
    {
     "name": "stdout",
     "output_type": "stream",
     "text": [
      "vocab size reached\n",
      "evaluating ... \n"
     ]
    },
    {
     "name": "stderr",
     "output_type": "stream",
     "text": [
      "100%|██████████| 2865/2865 [00:02<00:00, 1078.01it/s]\n",
      "100%|██████████| 2865/2865 [00:00<00:00, 340049.83it/s]\n",
      "100%|██████████| 2865/2865 [00:02<00:00, 964.55it/s] \n",
      "100%|██████████| 2865/2865 [00:00<00:00, 1092028.44it/s]\n",
      "100%|██████████| 2865/2865 [00:02<00:00, 1057.24it/s]\n",
      "100%|██████████| 2865/2865 [00:03<00:00, 952.76it/s] \n",
      "100%|██████████| 10000/10000 [00:00<00:00, 1729467.26it/s]\n"
     ]
    },
    {
     "name": "stdout",
     "output_type": "stream",
     "text": [
      "perform system check...\n",
      "check java version...\n",
      "Your java version is 11.0 which is compatiple with Farasa \n",
      "check toolkit binaries...\n",
      "Dependencies seem to be satisfied..\n",
      "task [SEGMENT] is initialized in \u001b[34mSTANDALONE \u001b[37mmode...\n",
      "******************************\n",
      "training MaT-BPE-10000\n",
      "Continue pretraining from vocab_size :  5000\n"
     ]
    },
    {
     "name": "stderr",
     "output_type": "stream",
     "text": [
      "100%|██████████| 5000/5000 [04:31<00:00, 18.42it/s]\n"
     ]
    },
    {
     "name": "stdout",
     "output_type": "stream",
     "text": [
      "vocab size reached\n",
      "evaluating ... \n"
     ]
    },
    {
     "name": "stderr",
     "output_type": "stream",
     "text": [
      "100%|██████████| 2865/2865 [00:02<00:00, 1216.00it/s]\n",
      "100%|██████████| 2865/2865 [00:00<00:00, 387572.36it/s]\n",
      "100%|██████████| 2865/2865 [00:02<00:00, 1242.80it/s]\n",
      "100%|██████████| 2865/2865 [00:00<00:00, 1135792.15it/s]\n",
      "100%|██████████| 2865/2865 [00:02<00:00, 1161.53it/s]\n",
      "100%|██████████| 2865/2865 [00:02<00:00, 1255.70it/s]\n",
      "100%|██████████| 10000/10000 [00:00<00:00, 1479315.77it/s]\n"
     ]
    },
    {
     "name": "stdout",
     "output_type": "stream",
     "text": [
      "perform system check...\n",
      "check java version...\n",
      "Your java version is 11.0 which is compatiple with Farasa \n",
      "check toolkit binaries...\n",
      "Dependencies seem to be satisfied..\n",
      "task [SEGMENT] is initialized in \u001b[34mSTANDALONE \u001b[37mmode...\n",
      "******************************\n",
      "training Seg-BPE-10000\n",
      "apply pre segmentation ...\n",
      "Continue pretraining from vocab_size :  5000\n"
     ]
    },
    {
     "name": "stderr",
     "output_type": "stream",
     "text": [
      "100%|██████████| 5000/5000 [02:43<00:00, 30.50it/s]\n"
     ]
    },
    {
     "name": "stdout",
     "output_type": "stream",
     "text": [
      "vocab size reached\n",
      "evaluating ... \n"
     ]
    },
    {
     "name": "stderr",
     "output_type": "stream",
     "text": [
      "100%|██████████| 2865/2865 [00:03<00:00, 842.83it/s]\n",
      "100%|██████████| 2865/2865 [00:00<00:00, 287879.86it/s]\n",
      "100%|██████████| 2865/2865 [00:03<00:00, 882.33it/s]\n",
      "100%|██████████| 2865/2865 [00:00<00:00, 1023567.37it/s]\n",
      "100%|██████████| 2865/2865 [00:03<00:00, 881.18it/s]\n",
      "100%|██████████| 2865/2865 [00:06<00:00, 471.21it/s]\n",
      "100%|██████████| 10000/10000 [00:00<00:00, 1562997.58it/s]\n"
     ]
    }
   ],
   "source": [
    "results = {}\n",
    "ckpts_dir = 'new_ckpts'\n",
    "os.makedirs(ckpts_dir, exist_ok = True)\n",
    "for vocab_size in vocab_sizes:\n",
    "    results_per_vocab = {}\n",
    "    tok_names = ['bpe', 'mat-bpe', 'seg-bpe']\n",
    "    for tok_name in tok_names:\n",
    "        tokenizer = get_tokenizer(tok_name, vocab_size)\n",
    "        print(\"*\" * 30)\n",
    "        tokenizer_dir = f'{tokenizer.name}-{vocab_size}'\n",
    "\n",
    "        if tokenizer_dir in os.listdir(ckpts_dir):\n",
    "            print(f\"{tokenizer_dir} already trained ...\")\n",
    "            continue \n",
    "        tokenizer_index = vocab_sizes.index(vocab_size)\n",
    "        if tokenizer_index > 0:\n",
    "            prev_tokenizer_vocab_size = vocab_sizes[tokenizer_index - 1]\n",
    "            prev_tokenizer_name = f\"{tokenizer.name}-{prev_tokenizer_vocab_size}\"\n",
    "            try:\n",
    "                tokenizer.load(f\"{ckpts_dir}/{prev_tokenizer_name}\")\n",
    "            except:\n",
    "                print(\"error in loading prev tokenizer \", prev_tokenizer_name)\n",
    "        print(f\"training {tokenizer_dir}\")\n",
    "        start_time = time.time()\n",
    "        tokenizer.train(text = train_corpus)\n",
    "        end_time = time.time()\n",
    "        print('evaluating ... ')\n",
    "        evaluate = Evaluate(test_corpus, test_gold_tokens, tokenizer)\n",
    "        r1 = evaluate.evaluate_on_segmentation()\n",
    "        r2 = evaluate.evaluate_on_compression_factor()\n",
    "        r3 = end_time - start_time\n",
    "        r4 = evaluate.evaluate_on_inf_speed()\n",
    "        r5 = evaluate.evaluate_on_num_tokens()\n",
    "        r6 = evaluate.evaluate_on_token_length()\n",
    "\n",
    "        results_per_vocab[tokenizer_dir] = [{\"segmentation\": r1}, {\"compression factor\":r2}, {\"training speed\":r3}, {\"inference speed\":r4},\n",
    "                                   {\"num of tokens\":r5}, {\"token length\":r6}]\n",
    "        tokenizer.save(f'{ckpts_dir}/{tokenizer_dir}/')\n",
    "        with open(f\"{ckpts_dir}/{tokenizer_dir}/results.pl\", 'wb') as handle:\n",
    "            pickle.dump(results_per_vocab, handle, protocol=pickle.HIGHEST_PROTOCOL)\n",
    "        \n",
    "    results[vocab_size] = results_per_vocab"
   ]
  },
  {
   "cell_type": "code",
   "execution_count": 32,
   "metadata": {},
   "outputs": [],
   "source": [
    "!rm -rf figures"
   ]
  },
  {
   "cell_type": "code",
   "execution_count": 14,
   "metadata": {
    "scrolled": false
   },
   "outputs": [
    {
     "data": {
      "image/png": "[encoded data removed]",
      "text/plain": [
       "<Figure size 463.52x360 with 1 Axes>"
      ]
     },
     "metadata": {
      "needs_background": "light"
     },
     "output_type": "display_data"
    },
    {
     "data": {
      "image/png": "[encoded data removed]",
      "text/plain": [
       "<Figure size 463.52x360 with 1 Axes>"
      ]
     },
     "metadata": {
      "needs_background": "light"
     },
     "output_type": "display_data"
    },
    {
     "data": {
      "image/png": "[encoded data removed]",
      "text/plain": [
       "<Figure size 463.52x360 with 1 Axes>"
      ]
     },
     "metadata": {
      "needs_background": "light"
     },
     "output_type": "display_data"
    },
    {
     "data": {
      "image/png": "[encoded data removed]",
      "text/plain": [
       "<Figure size 463.52x360 with 1 Axes>"
      ]
     },
     "metadata": {
      "needs_background": "light"
     },
     "output_type": "display_data"
    },
    {
     "data": {
      "image/png": "[encoded data removed]",
      "text/plain": [
       "<Figure size 463.52x360 with 1 Axes>"
      ]
     },
     "metadata": {
      "needs_background": "light"
     },
     "output_type": "display_data"
    },
    {
     "data": {
      "image/png": "[encoded data removed]",
      "text/plain": [
       "<Figure size 463.52x360 with 1 Axes>"
      ]
     },
     "metadata": {
      "needs_background": "light"
     },
     "output_type": "display_data"
    },
    {
     "data": {
      "image/png": "[encoded data removed]",
      "text/plain": [
       "<Figure size 463.52x360 with 1 Axes>"
      ]
     },
     "metadata": {
      "needs_background": "light"
     },
     "output_type": "display_data"
    },
    {
     "data": {
      "image/png": "[encoded data removed]",
      "text/plain": [
       "<Figure size 463.52x360 with 1 Axes>"
      ]
     },
     "metadata": {
      "needs_background": "light"
     },
     "output_type": "display_data"
    },
    {
     "data": {
      "image/png": "[encoded data removed]",
      "text/plain": [
       "<Figure size 463.52x360 with 1 Axes>"
      ]
     },
     "metadata": {
      "needs_background": "light"
     },
     "output_type": "display_data"
    },
    {
     "data": {
      "image/png": "[encoded data removed]",
      "text/plain": [
       "<Figure size 463.52x360 with 1 Axes>"
      ]
     },
     "metadata": {
      "needs_background": "light"
     },
     "output_type": "display_data"
    }
   ],
   "source": [
    "foulders = os.listdir(ckpts_dir)\n",
    "fig_dir = 'new_figures'\n",
    "os.makedirs(fig_dir, exist_ok=True)\n",
    "for i, evaluate_name in enumerate(evaluate_names):\n",
    "    names = []\n",
    "    values = [] \n",
    "    vocabs = []\n",
    "    palette = sns.color_palette(\"Paired\", 3)\n",
    "\n",
    "    sns.set_context(\"notebook\", font_scale=1.2, rc={\"lines.linewidth\": 1.5})\n",
    "    for vocab_size in vocab_sizes:\n",
    "        for tokenizer_name in foulders: \n",
    "            if str(vocab_size) in tokenizer_name.split('-'):\n",
    "                with open(f'{ckpts_dir}/{tokenizer_name}/results.pl', 'rb') as handle:\n",
    "                    results_per_vocab = pickle.load(handle)\n",
    "                names.append(tokenizer_name.replace(f'-{vocab_size}', '').replace('-ar', ''))\n",
    "                values.append(list(results_per_vocab[tokenizer_name][i].values())[0])\n",
    "                vocabs.append(vocab_size)\n",
    "\n",
    "    x = 'Tokenizer'\n",
    "    y = 'Value'\n",
    "    z = 'Vocab Size'\n",
    "    data = pd.DataFrame({x:names, y:values, z:vocabs})\n",
    "    if i < 5 :\n",
    "        sns.catplot(x=z, y=y, hue=x, data=data, kind='bar',palette=palette, hue_order=['Seg-BPE','MaT-BPE','BPE'])\n",
    "        plt.ylabel(evaluate_name)\n",
    "        plt.savefig(f\"{fig_dir}/{evaluate_name.lower().replace(' ','_')}.png\")\n",
    "        plt.show()\n",
    "    else:\n",
    "        expanded_df = data.explode(y, ignore_index = True)\n",
    "        for vocab_size in vocab_sizes:\n",
    "            df = expanded_df[expanded_df[z] == vocab_size].groupby([x, y]).count().reset_index()\n",
    "            sns.catplot(x=y, y=z, hue=x, data=df, kind='bar', palette=palette, hue_order=['Seg-BPE','MaT-BPE','BPE'])\n",
    "            plt.xlabel('Token length')\n",
    "            plt.ylabel(f'Frequency')\n",
    "            plt.savefig(f\"{fig_dir}/{f'{evaluate_name} for vocab {vocab_size}'.lower().replace(' ','_')}.png\")\n",
    "            plt.show()"
   ]
  },
  {
   "cell_type": "code",
   "execution_count": 2,
   "metadata": {},
   "outputs": [
    {
     "name": "stdout",
     "output_type": "stream",
     "text": [
      "perform system check...\n",
      "check java version...\n",
      "Your java version is 11.0 which is compatiple with Farasa \n",
      "check toolkit binaries...\n",
      "Dependencies seem to be satisfied..\n",
      "task [SEGMENT] is initialized in \u001b[34mSTANDALONE \u001b[37mmode...\n"
     ]
    },
    {
     "name": "stderr",
     "output_type": "stream",
     "text": [
      "[nltk_data] Error loading punkt: <urlopen error [Errno -3] Temporary\n",
      "[nltk_data]     failure in name resolution>\n"
     ]
    }
   ],
   "source": [
    "from bpe_surgery import bpe \n",
    "tokenizer = bpe(vocab_size=250, seg = True)\n",
    "tokenizer.load('ckpts/Seg-BPE-250')"
   ]
  },
  {
   "cell_type": "code",
   "execution_count": 3,
   "metadata": {},
   "outputs": [
    {
     "data": {
      "text/plain": [
       "['<pad>',\n",
       " '<unk>',\n",
       " '▁',\n",
       " '<s>',\n",
       " '</s>',\n",
       " 'e',\n",
       " '0',\n",
       " 'N',\n",
       " '!',\n",
       " '9',\n",
       " 'm',\n",
       " '؟',\n",
       " 'ب',\n",
       " 'w',\n",
       " ')',\n",
       " 'l',\n",
       " '-',\n",
       " 'ة',\n",
       " 'ئ',\n",
       " 'ؤ',\n",
       " 'n',\n",
       " 'b',\n",
       " 'س',\n",
       " '7',\n",
       " 'k',\n",
       " 'h',\n",
       " 'ز',\n",
       " '–',\n",
       " 'و',\n",
       " 'أ',\n",
       " 'O',\n",
       " 'ص',\n",
       " 'م',\n",
       " 'ظ',\n",
       " 'v',\n",
       " '1',\n",
       " '&',\n",
       " '6',\n",
       " 'B',\n",
       " '}',\n",
       " 'ه',\n",
       " '2',\n",
       " 'i',\n",
       " '5',\n",
       " 'د',\n",
       " 'R',\n",
       " 'ش',\n",
       " 'ى',\n",
       " 'I',\n",
       " 'g',\n",
       " 's',\n",
       " 'H',\n",
       " 'ط',\n",
       " 'ل',\n",
       " 'ق',\n",
       " '3',\n",
       " '—',\n",
       " 'ر',\n",
       " 'ء',\n",
       " 'ك',\n",
       " 'y',\n",
       " ',',\n",
       " 'o',\n",
       " 'f',\n",
       " '4',\n",
       " 'a',\n",
       " '(',\n",
       " '.',\n",
       " 'آ',\n",
       " '،',\n",
       " 'L',\n",
       " 'S',\n",
       " 'c',\n",
       " 'D',\n",
       " 'd',\n",
       " '{',\n",
       " '؛',\n",
       " '+',\n",
       " 'ض',\n",
       " 'غ',\n",
       " '/',\n",
       " '*',\n",
       " 'ف',\n",
       " 'ن',\n",
       " 'p',\n",
       " 'ذ',\n",
       " 'ي',\n",
       " 'ح',\n",
       " '%',\n",
       " 'ث',\n",
       " 'إ',\n",
       " ':',\n",
       " 'ج',\n",
       " '»',\n",
       " 'خ',\n",
       " '8',\n",
       " 'ا',\n",
       " 'ع',\n",
       " 'ت',\n",
       " 'u',\n",
       " 'r',\n",
       " 'ل+',\n",
       " 'ال+',\n",
       " '▁ال+',\n",
       " '▁و',\n",
       " '▁و+',\n",
       " '+ة',\n",
       " '▁ت',\n",
       " '▁ي',\n",
       " 'ب+',\n",
       " '▁م',\n",
       " '+ا',\n",
       " '▁و+ال+',\n",
       " '▁أ',\n",
       " '▁ال+م',\n",
       " '▁ب+',\n",
       " '▁ف',\n",
       " '+ت',\n",
       " 'وا',\n",
       " 'ان',\n",
       " 'ين',\n",
       " 'ار',\n",
       " 'ي+ة',\n",
       " '+ات',\n",
       " '▁ف+',\n",
       " 'ال',\n",
       " 'نا',\n",
       " 'ام',\n",
       " 'ون',\n",
       " '▁ل+',\n",
       " 'ست',\n",
       " '▁ب+ال+',\n",
       " 'را',\n",
       " '▁س',\n",
       " 'ري',\n",
       " '▁ال+أ',\n",
       " '▁ن',\n",
       " '+ين',\n",
       " 'ير',\n",
       " 'اد',\n",
       " 'اء',\n",
       " '▁ال+ت',\n",
       " 'اب',\n",
       " '▁ك',\n",
       " '▁و+ت',\n",
       " 'ات',\n",
       " '▁ع',\n",
       " 'لي',\n",
       " 'ر+ة',\n",
       " '▁ح',\n",
       " '▁ال+ع',\n",
       " 'ائ',\n",
       " '▁و+أ',\n",
       " '▁ب',\n",
       " 'اع',\n",
       " 'اف',\n",
       " '▁ق',\n",
       " 'ل+ة',\n",
       " 'ول',\n",
       " 'يد',\n",
       " '+وا',\n",
       " '▁ال+ح',\n",
       " '▁ال+س',\n",
       " '+ون',\n",
       " '▁ا',\n",
       " '▁ج',\n",
       " 'ور',\n",
       " '▁ش',\n",
       " 'رب',\n",
       " 'لا',\n",
       " '▁يت',\n",
       " 'لم',\n",
       " '▁إ',\n",
       " '▁و+ي',\n",
       " '▁ال+ب',\n",
       " '▁خ',\n",
       " 'قي',\n",
       " '▁ص',\n",
       " 'قد',\n",
       " 'ود',\n",
       " 'تم',\n",
       " '+نا',\n",
       " '▁د',\n",
       " '▁ال+ف',\n",
       " 'اه',\n",
       " '▁ال+ج',\n",
       " 'رف',\n",
       " 'م+ة',\n",
       " '▁ال+ش',\n",
       " 'رو',\n",
       " 'رك',\n",
       " '▁ال+خ',\n",
       " 'رج',\n",
       " 'بي',\n",
       " 'عد',\n",
       " 'ب+ة',\n",
       " 'ع+ة',\n",
       " '▁و+م',\n",
       " 'اح',\n",
       " 'رق',\n",
       " 'يل',\n",
       " '▁ال+ق',\n",
       " 'عم',\n",
       " '▁ال+إ',\n",
       " 'اج',\n",
       " 'وم',\n",
       " 'لق',\n",
       " 'بر',\n",
       " '▁ه',\n",
       " '▁ين',\n",
       " '▁ال+ص',\n",
       " 'حد',\n",
       " 'كر',\n",
       " 'مر',\n",
       " '▁ط',\n",
       " 'ل+ت',\n",
       " '▁تت',\n",
       " '▁مت',\n",
       " 'سم',\n",
       " 'وق',\n",
       " 'است',\n",
       " '▁ك+',\n",
       " 'من',\n",
       " 'وج',\n",
       " 'اق',\n",
       " 'سي',\n",
       " '▁ال+ن',\n",
       " '▁و+ال+ت',\n",
       " '+ي',\n",
       " 'فر',\n",
       " 'وي',\n",
       " 'ار+ة',\n",
       " '▁و+ال+م',\n",
       " '▁ال+مت',\n",
       " 'خت',\n",
       " 'كت',\n",
       " 'ما',\n",
       " '▁ان',\n",
       " 'لب',\n",
       " '▁ر',\n",
       " 'د+ة',\n",
       " 'لف',\n",
       " '▁است',\n",
       " '▁غ',\n",
       " '▁ال+د',\n",
       " 'وس',\n",
       " 'صل',\n",
       " 'عل',\n",
       " 'هد',\n",
       " '▁و+س']"
      ]
     },
     "execution_count": 3,
     "metadata": {},
     "output_type": "execute_result"
    }
   ],
   "source": [
    "tokenizer.vocab"
   ]
  },
  {
   "cell_type": "code",
   "execution_count": 4,
   "metadata": {},
   "outputs": [
    {
     "name": "stdout",
     "output_type": "stream",
     "text": [
      "perform system check...\n",
      "check java version...\n",
      "Your java version is 11.0 which is compatiple with Farasa \n",
      "check toolkit binaries...\n",
      "Dependencies seem to be satisfied..\n",
      "task [SEGMENT] is initialized in \u001b[34mSTANDALONE \u001b[37mmode...\n"
     ]
    }
   ],
   "source": [
    "from farasa.segmenter import FarasaSegmenter\n",
    "\n",
    "segmenter = FarasaSegmenter()"
   ]
  },
  {
   "cell_type": "code",
   "execution_count": 6,
   "metadata": {},
   "outputs": [
    {
     "data": {
      "text/plain": [
       "'ال +سلام علي +كم'"
      ]
     },
     "execution_count": 6,
     "metadata": {},
     "output_type": "execute_result"
    }
   ],
   "source": [
    "segmenter.segment(\"السلام عليكم\").replace(\"+\", \" +\")"
   ]
  }
 ],
 "metadata": {
  "kernelspec": {
   "display_name": "Python 3.8.10 64-bit",
   "language": "python",
   "name": "python3"
  },
  "language_info": {
   "codemirror_mode": {
    "name": "ipython",
    "version": 3
   },
   "file_extension": ".py",
   "mimetype": "text/x-python",
   "name": "python",
   "nbconvert_exporter": "python",
   "pygments_lexer": "ipython3",
   "version": "3.8.10"
  },
  "vscode": {
   "interpreter": {
    "hash": "916dbcbb3f70747c44a77c7bcd40155683ae19c65e1c03b4aa3499c5328201f1"
   }
  }
 },
 "nbformat": 4,
 "nbformat_minor": 2
}
